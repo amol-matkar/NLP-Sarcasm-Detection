{
 "cells": [
  {
   "cell_type": "markdown",
   "metadata": {
    "id": "bI7SIeJ_oZMU"
   },
   "source": [
    "![alt text](https://drive.google.com/uc?export=view&id=1UXScsVx_Wni_JuDdB8LeTnM6jsPfIwkW)\n",
    "\n",
    "Proprietary content. © Great Learning. All Rights Reserved. Unauthorized use or distribution prohibited."
   ]
  },
  {
   "cell_type": "markdown",
   "metadata": {
    "id": "Eukag7wEoPZu"
   },
   "source": [
    "### Package Version:\n",
    "- tensorflow==2.2.0\n",
    "- pandas==1.0.5\n",
    "- numpy==1.18.5\n",
    "- google==2.0.3"
   ]
  },
  {
   "cell_type": "markdown",
   "metadata": {
    "id": "pp68FAQf9aMN"
   },
   "source": [
    "# Sarcasm Detection"
   ]
  },
  {
   "cell_type": "markdown",
   "metadata": {
    "id": "bEahVPtWX5ve"
   },
   "source": [
    "### Dataset\n",
    "\n",
    "#### Acknowledgement\n",
    "Misra, Rishabh, and Prahal Arora. \"Sarcasm Detection using Hybrid Neural Network.\" arXiv preprint arXiv:1908.07414 (2019).\n",
    "\n",
    "**Required Files given in below link.**\n",
    "\n",
    "https://drive.google.com/drive/folders/1xUnF35naPGU63xwRDVGc-DkZ3M8V5mMk"
   ]
  },
  {
   "cell_type": "code",
   "execution_count": 44,
   "metadata": {
    "id": "_LwHbtggSzgr"
   },
   "outputs": [],
   "source": [
    "from google.colab import drive\n",
    "import pandas as pd\n",
    "import numpy as np\n",
    "import matplotlib.pyplot as plt\n",
    "import re\n",
    "\n",
    "# Ignore the warnings\n",
    "import warnings\n",
    "warnings.filterwarnings(\"ignore\")"
   ]
  },
  {
   "cell_type": "code",
   "execution_count": 45,
   "metadata": {
    "colab": {
     "base_uri": "https://localhost:8080/",
     "height": 34
    },
    "id": "ny8cTILTS6eJ",
    "outputId": "d6cdb152-b682-46f4-9add-394f7e53cf90"
   },
   "outputs": [
    {
     "name": "stdout",
     "output_type": "stream",
     "text": [
      "Drive already mounted at /content/drive/; to attempt to forcibly remount, call drive.mount(\"/content/drive/\", force_remount=True).\n"
     ]
    }
   ],
   "source": [
    "drive.mount('/content/drive/')"
   ]
  },
  {
   "cell_type": "markdown",
   "metadata": {
    "id": "vAk6BRUh8CqL"
   },
   "source": [
    "### Load Data (3 Marks)"
   ]
  },
  {
   "cell_type": "code",
   "execution_count": 46,
   "metadata": {
    "id": "v8-PQsV0DrAZ"
   },
   "outputs": [],
   "source": [
    "path = \"/content/drive/My Drive/Colab Notebooks/GL-AIML/Natural Language Processing/Projects/Project 2 - Sequential Models in NLP - Sarcasm Detection/Sarcasm_Headlines_Dataset.json\"\n",
    "data = pd.read_json(path, lines=True)"
   ]
  },
  {
   "cell_type": "code",
   "execution_count": 47,
   "metadata": {
    "colab": {
     "base_uri": "https://localhost:8080/",
     "height": 359
    },
    "id": "CzbCdsmJURDY",
    "outputId": "250ad921-1ed5-4334-9776-aaaf46dfb28a"
   },
   "outputs": [
    {
     "data": {
      "text/html": [
       "<div>\n",
       "<style scoped>\n",
       "    .dataframe tbody tr th:only-of-type {\n",
       "        vertical-align: middle;\n",
       "    }\n",
       "\n",
       "    .dataframe tbody tr th {\n",
       "        vertical-align: top;\n",
       "    }\n",
       "\n",
       "    .dataframe thead th {\n",
       "        text-align: right;\n",
       "    }\n",
       "</style>\n",
       "<table border=\"1\" class=\"dataframe\">\n",
       "  <thead>\n",
       "    <tr style=\"text-align: right;\">\n",
       "      <th></th>\n",
       "      <th>article_link</th>\n",
       "      <th>headline</th>\n",
       "      <th>is_sarcastic</th>\n",
       "    </tr>\n",
       "  </thead>\n",
       "  <tbody>\n",
       "    <tr>\n",
       "      <th>0</th>\n",
       "      <td>https://www.huffingtonpost.com/entry/versace-b...</td>\n",
       "      <td>former versace store clerk sues over secret 'b...</td>\n",
       "      <td>0</td>\n",
       "    </tr>\n",
       "    <tr>\n",
       "      <th>1</th>\n",
       "      <td>https://www.huffingtonpost.com/entry/roseanne-...</td>\n",
       "      <td>the 'roseanne' revival catches up to our thorn...</td>\n",
       "      <td>0</td>\n",
       "    </tr>\n",
       "    <tr>\n",
       "      <th>2</th>\n",
       "      <td>https://local.theonion.com/mom-starting-to-fea...</td>\n",
       "      <td>mom starting to fear son's web series closest ...</td>\n",
       "      <td>1</td>\n",
       "    </tr>\n",
       "    <tr>\n",
       "      <th>3</th>\n",
       "      <td>https://politics.theonion.com/boehner-just-wan...</td>\n",
       "      <td>boehner just wants wife to listen, not come up...</td>\n",
       "      <td>1</td>\n",
       "    </tr>\n",
       "    <tr>\n",
       "      <th>4</th>\n",
       "      <td>https://www.huffingtonpost.com/entry/jk-rowlin...</td>\n",
       "      <td>j.k. rowling wishes snape happy birthday in th...</td>\n",
       "      <td>0</td>\n",
       "    </tr>\n",
       "    <tr>\n",
       "      <th>5</th>\n",
       "      <td>https://www.huffingtonpost.com/entry/advancing...</td>\n",
       "      <td>advancing the world's women</td>\n",
       "      <td>0</td>\n",
       "    </tr>\n",
       "    <tr>\n",
       "      <th>6</th>\n",
       "      <td>https://www.huffingtonpost.com/entry/how-meat-...</td>\n",
       "      <td>the fascinating case for eating lab-grown meat</td>\n",
       "      <td>0</td>\n",
       "    </tr>\n",
       "    <tr>\n",
       "      <th>7</th>\n",
       "      <td>https://www.huffingtonpost.com/entry/boxed-col...</td>\n",
       "      <td>this ceo will send your kids to school, if you...</td>\n",
       "      <td>0</td>\n",
       "    </tr>\n",
       "    <tr>\n",
       "      <th>8</th>\n",
       "      <td>https://politics.theonion.com/top-snake-handle...</td>\n",
       "      <td>top snake handler leaves sinking huckabee camp...</td>\n",
       "      <td>1</td>\n",
       "    </tr>\n",
       "    <tr>\n",
       "      <th>9</th>\n",
       "      <td>https://www.huffingtonpost.com/entry/fridays-m...</td>\n",
       "      <td>friday's morning email: inside trump's presser...</td>\n",
       "      <td>0</td>\n",
       "    </tr>\n",
       "  </tbody>\n",
       "</table>\n",
       "</div>"
      ],
      "text/plain": [
       "                                        article_link  ... is_sarcastic\n",
       "0  https://www.huffingtonpost.com/entry/versace-b...  ...            0\n",
       "1  https://www.huffingtonpost.com/entry/roseanne-...  ...            0\n",
       "2  https://local.theonion.com/mom-starting-to-fea...  ...            1\n",
       "3  https://politics.theonion.com/boehner-just-wan...  ...            1\n",
       "4  https://www.huffingtonpost.com/entry/jk-rowlin...  ...            0\n",
       "5  https://www.huffingtonpost.com/entry/advancing...  ...            0\n",
       "6  https://www.huffingtonpost.com/entry/how-meat-...  ...            0\n",
       "7  https://www.huffingtonpost.com/entry/boxed-col...  ...            0\n",
       "8  https://politics.theonion.com/top-snake-handle...  ...            1\n",
       "9  https://www.huffingtonpost.com/entry/fridays-m...  ...            0\n",
       "\n",
       "[10 rows x 3 columns]"
      ]
     },
     "execution_count": 47,
     "metadata": {
      "tags": []
     },
     "output_type": "execute_result"
    }
   ],
   "source": [
    "data.head(10)"
   ]
  },
  {
   "cell_type": "code",
   "execution_count": 48,
   "metadata": {
    "colab": {
     "base_uri": "https://localhost:8080/",
     "height": 187
    },
    "id": "vwg241ZKXpcz",
    "outputId": "bb3ff4dc-fc73-4918-e1cb-5ae0bed098fc"
   },
   "outputs": [
    {
     "name": "stdout",
     "output_type": "stream",
     "text": [
      "<class 'pandas.core.frame.DataFrame'>\n",
      "RangeIndex: 26709 entries, 0 to 26708\n",
      "Data columns (total 3 columns):\n",
      " #   Column        Non-Null Count  Dtype \n",
      "---  ------        --------------  ----- \n",
      " 0   article_link  26709 non-null  object\n",
      " 1   headline      26709 non-null  object\n",
      " 2   is_sarcastic  26709 non-null  int64 \n",
      "dtypes: int64(1), object(2)\n",
      "memory usage: 626.1+ KB\n"
     ]
    }
   ],
   "source": [
    "data.info()"
   ]
  },
  {
   "cell_type": "code",
   "execution_count": 49,
   "metadata": {
    "colab": {
     "base_uri": "https://localhost:8080/",
     "height": 102
    },
    "id": "E8og--c0qy_6",
    "outputId": "758898ce-0b72-4361-8b4e-c2dc6ec6439b"
   },
   "outputs": [
    {
     "name": "stdout",
     "output_type": "stream",
     "text": [
      "Checking null values: \n"
     ]
    },
    {
     "data": {
      "text/plain": [
       "article_link    0\n",
       "headline        0\n",
       "is_sarcastic    0\n",
       "dtype: int64"
      ]
     },
     "execution_count": 49,
     "metadata": {
      "tags": []
     },
     "output_type": "execute_result"
    }
   ],
   "source": [
    "print(\"Checking null values: \")\n",
    "data.isna().sum()"
   ]
  },
  {
   "cell_type": "code",
   "execution_count": 50,
   "metadata": {
    "colab": {
     "base_uri": "https://localhost:8080/",
     "height": 248
    },
    "id": "usEuFWgirx6e",
    "outputId": "45b7847c-735c-49b1-a8f7-aef4499f0061"
   },
   "outputs": [
    {
     "data": {
      "image/png": "[encoded data removed]",
      "text/plain": [
       "<Figure size 432x288 with 1 Axes>"
      ]
     },
     "metadata": {
      "tags": []
     },
     "output_type": "display_data"
    }
   ],
   "source": [
    "labels = ['Sarcastic', 'Not Sarcastic']\n",
    "count_sarcastic = len(data[data['is_sarcastic']==1])\n",
    "count_notsar = len(data[data['is_sarcastic']==0])\n",
    "values = [count_sarcastic, count_notsar]\n",
    "\n",
    "fig1, ax1 = plt.subplots()\n",
    "ax1.pie(values, labels=labels, autopct='%1.1f%%', shadow=True, startangle=90)\n",
    "\n",
    "plt.show()"
   ]
  },
  {
   "cell_type": "markdown",
   "metadata": {
    "id": "z6pXf7A78E2H"
   },
   "source": [
    "### Drop `article_link` from dataset (3 Marks)"
   ]
  },
  {
   "cell_type": "code",
   "execution_count": 51,
   "metadata": {
    "id": "-WUNHq5zEV0n"
   },
   "outputs": [],
   "source": [
    "data.drop('article_link', axis=1, inplace=True)"
   ]
  },
  {
   "cell_type": "code",
   "execution_count": 52,
   "metadata": {
    "colab": {
     "base_uri": "https://localhost:8080/",
     "height": 204
    },
    "id": "ErlHymA2WWGo",
    "outputId": "e6e7a564-386e-417c-8142-528b0245c509"
   },
   "outputs": [
    {
     "data": {
      "text/html": [
       "<div>\n",
       "<style scoped>\n",
       "    .dataframe tbody tr th:only-of-type {\n",
       "        vertical-align: middle;\n",
       "    }\n",
       "\n",
       "    .dataframe tbody tr th {\n",
       "        vertical-align: top;\n",
       "    }\n",
       "\n",
       "    .dataframe thead th {\n",
       "        text-align: right;\n",
       "    }\n",
       "</style>\n",
       "<table border=\"1\" class=\"dataframe\">\n",
       "  <thead>\n",
       "    <tr style=\"text-align: right;\">\n",
       "      <th></th>\n",
       "      <th>headline</th>\n",
       "      <th>is_sarcastic</th>\n",
       "    </tr>\n",
       "  </thead>\n",
       "  <tbody>\n",
       "    <tr>\n",
       "      <th>0</th>\n",
       "      <td>former versace store clerk sues over secret 'b...</td>\n",
       "      <td>0</td>\n",
       "    </tr>\n",
       "    <tr>\n",
       "      <th>1</th>\n",
       "      <td>the 'roseanne' revival catches up to our thorn...</td>\n",
       "      <td>0</td>\n",
       "    </tr>\n",
       "    <tr>\n",
       "      <th>2</th>\n",
       "      <td>mom starting to fear son's web series closest ...</td>\n",
       "      <td>1</td>\n",
       "    </tr>\n",
       "    <tr>\n",
       "      <th>3</th>\n",
       "      <td>boehner just wants wife to listen, not come up...</td>\n",
       "      <td>1</td>\n",
       "    </tr>\n",
       "    <tr>\n",
       "      <th>4</th>\n",
       "      <td>j.k. rowling wishes snape happy birthday in th...</td>\n",
       "      <td>0</td>\n",
       "    </tr>\n",
       "  </tbody>\n",
       "</table>\n",
       "</div>"
      ],
      "text/plain": [
       "                                            headline  is_sarcastic\n",
       "0  former versace store clerk sues over secret 'b...             0\n",
       "1  the 'roseanne' revival catches up to our thorn...             0\n",
       "2  mom starting to fear son's web series closest ...             1\n",
       "3  boehner just wants wife to listen, not come up...             1\n",
       "4  j.k. rowling wishes snape happy birthday in th...             0"
      ]
     },
     "execution_count": 52,
     "metadata": {
      "tags": []
     },
     "output_type": "execute_result"
    }
   ],
   "source": [
    "data.head(5)"
   ]
  },
  {
   "cell_type": "markdown",
   "metadata": {
    "id": "D0h6IOxU8OdH"
   },
   "source": [
    "### Get length of each headline and add a column for that (3 Marks)"
   ]
  },
  {
   "cell_type": "code",
   "execution_count": 53,
   "metadata": {
    "id": "MLpiBRDmEV2l"
   },
   "outputs": [],
   "source": [
    "length = [len(headline) for headline in data.headline ]"
   ]
  },
  {
   "cell_type": "code",
   "execution_count": 54,
   "metadata": {
    "id": "odfhvtURXApS"
   },
   "outputs": [],
   "source": [
    "data['length'] = length"
   ]
  },
  {
   "cell_type": "code",
   "execution_count": 55,
   "metadata": {
    "colab": {
     "base_uri": "https://localhost:8080/",
     "height": 204
    },
    "id": "advqrvvRXAng",
    "outputId": "723876bb-ae81-49d7-8faf-4e7ceb52846c"
   },
   "outputs": [
    {
     "data": {
      "text/html": [
       "<div>\n",
       "<style scoped>\n",
       "    .dataframe tbody tr th:only-of-type {\n",
       "        vertical-align: middle;\n",
       "    }\n",
       "\n",
       "    .dataframe tbody tr th {\n",
       "        vertical-align: top;\n",
       "    }\n",
       "\n",
       "    .dataframe thead th {\n",
       "        text-align: right;\n",
       "    }\n",
       "</style>\n",
       "<table border=\"1\" class=\"dataframe\">\n",
       "  <thead>\n",
       "    <tr style=\"text-align: right;\">\n",
       "      <th></th>\n",
       "      <th>headline</th>\n",
       "      <th>is_sarcastic</th>\n",
       "      <th>length</th>\n",
       "    </tr>\n",
       "  </thead>\n",
       "  <tbody>\n",
       "    <tr>\n",
       "      <th>0</th>\n",
       "      <td>former versace store clerk sues over secret 'b...</td>\n",
       "      <td>0</td>\n",
       "      <td>78</td>\n",
       "    </tr>\n",
       "    <tr>\n",
       "      <th>1</th>\n",
       "      <td>the 'roseanne' revival catches up to our thorn...</td>\n",
       "      <td>0</td>\n",
       "      <td>84</td>\n",
       "    </tr>\n",
       "    <tr>\n",
       "      <th>2</th>\n",
       "      <td>mom starting to fear son's web series closest ...</td>\n",
       "      <td>1</td>\n",
       "      <td>79</td>\n",
       "    </tr>\n",
       "    <tr>\n",
       "      <th>3</th>\n",
       "      <td>boehner just wants wife to listen, not come up...</td>\n",
       "      <td>1</td>\n",
       "      <td>84</td>\n",
       "    </tr>\n",
       "    <tr>\n",
       "      <th>4</th>\n",
       "      <td>j.k. rowling wishes snape happy birthday in th...</td>\n",
       "      <td>0</td>\n",
       "      <td>64</td>\n",
       "    </tr>\n",
       "  </tbody>\n",
       "</table>\n",
       "</div>"
      ],
      "text/plain": [
       "                                            headline  is_sarcastic  length\n",
       "0  former versace store clerk sues over secret 'b...             0      78\n",
       "1  the 'roseanne' revival catches up to our thorn...             0      84\n",
       "2  mom starting to fear son's web series closest ...             1      79\n",
       "3  boehner just wants wife to listen, not come up...             1      84\n",
       "4  j.k. rowling wishes snape happy birthday in th...             0      64"
      ]
     },
     "execution_count": 55,
     "metadata": {
      "tags": []
     },
     "output_type": "execute_result"
    }
   ],
   "source": [
    "data.head(5)"
   ]
  },
  {
   "cell_type": "code",
   "execution_count": 56,
   "metadata": {
    "id": "FBuAV3dojcao"
   },
   "outputs": [],
   "source": [
    "def clean_text(text):\n",
    "    text = text.lower()\n",
    "    \n",
    "    pattern = re.compile('http[s]?://(?:[a-zA-Z]|[0-9]|[$-_@.&+]|[!*\\(\\),]|(?:%[0-9a-fA-F][0-9a-fA-F]))+')\n",
    "    text = pattern.sub('', text)\n",
    "    text = \" \".join(filter(lambda x:x[0]!='@', text.split()))\n",
    "    emoji = re.compile(\"[\"\n",
    "                           u\"\\U0001F600-\\U0001FFFF\"  # emoticons\n",
    "                           u\"\\U0001F300-\\U0001F5FF\"  # symbols & pictographs\n",
    "                           u\"\\U0001F680-\\U0001F6FF\"  # transport & map symbols\n",
    "                           u\"\\U0001F1E0-\\U0001F1FF\"  # flags (iOS)\n",
    "                           u\"\\U00002702-\\U000027B0\"\n",
    "                           u\"\\U000024C2-\\U0001F251\"\n",
    "                           \"]+\", flags=re.UNICODE)\n",
    "    \n",
    "    text = emoji.sub(r'', text)\n",
    "    text = text.lower()\n",
    "    text = re.sub(r\"i'm\", \"i am\", text)\n",
    "    text = re.sub(r\"he's\", \"he is\", text)\n",
    "    text = re.sub(r\"she's\", \"she is\", text)\n",
    "    text = re.sub(r\"that's\", \"that is\", text)        \n",
    "    text = re.sub(r\"what's\", \"what is\", text)\n",
    "    text = re.sub(r\"where's\", \"where is\", text) \n",
    "    text = re.sub(r\"\\'ll\", \" will\", text)  \n",
    "    text = re.sub(r\"\\'ve\", \" have\", text)  \n",
    "    text = re.sub(r\"\\'re\", \" are\", text)\n",
    "    text = re.sub(r\"\\'d\", \" would\", text)\n",
    "    text = re.sub(r\"\\'ve\", \" have\", text)\n",
    "    text = re.sub(r\"won't\", \"will not\", text)\n",
    "    text = re.sub(r\"don't\", \"do not\", text)\n",
    "    text = re.sub(r\"did't\", \"did not\", text)\n",
    "    text = re.sub(r\"can't\", \"can not\", text)\n",
    "    text = re.sub(r\"it's\", \"it is\", text)\n",
    "    text = re.sub(r\"couldn't\", \"could not\", text)\n",
    "    text = re.sub(r\"have't\", \"have not\", text)\n",
    "    text = re.sub(r\"[,.\\\"\\'!@#$%^&*(){}?/;`~:<>+=-]\", \"\", text)\n",
    "    return text"
   ]
  },
  {
   "cell_type": "code",
   "execution_count": 57,
   "metadata": {
    "colab": {
     "base_uri": "https://localhost:8080/",
     "height": 102
    },
    "id": "wgytz26gkEXj",
    "outputId": "e18ed33b-80be-47fa-f90d-d22d2f3e6fa0"
   },
   "outputs": [
    {
     "name": "stdout",
     "output_type": "stream",
     "text": [
      "[nltk_data] Downloading package punkt to /root/nltk_data...\n",
      "[nltk_data]   Package punkt is already up-to-date!\n",
      "[nltk_data] Downloading package stopwords to /root/nltk_data...\n",
      "[nltk_data]   Package stopwords is already up-to-date!\n"
     ]
    },
    {
     "data": {
      "text/plain": [
       "True"
      ]
     },
     "execution_count": 57,
     "metadata": {
      "tags": []
     },
     "output_type": "execute_result"
    }
   ],
   "source": [
    "import nltk\n",
    "nltk.download('punkt')\n",
    "nltk.download('stopwords')"
   ]
  },
  {
   "cell_type": "code",
   "execution_count": 58,
   "metadata": {
    "colab": {
     "base_uri": "https://localhost:8080/",
     "height": 714
    },
    "id": "5SXlSD3njjUL",
    "outputId": "57b43379-53ac-4d83-d52c-3104a7d15b65"
   },
   "outputs": [
    {
     "data": {
      "text/plain": [
       "[['former',\n",
       "  'versace',\n",
       "  'store',\n",
       "  'clerk',\n",
       "  'sues',\n",
       "  'secret',\n",
       "  'black',\n",
       "  'code',\n",
       "  'minority',\n",
       "  'shoppers'],\n",
       " ['roseanne',\n",
       "  'revival',\n",
       "  'catches',\n",
       "  'thorny',\n",
       "  'political',\n",
       "  'mood',\n",
       "  'better',\n",
       "  'worse'],\n",
       " ['mom',\n",
       "  'starting',\n",
       "  'fear',\n",
       "  'sons',\n",
       "  'web',\n",
       "  'series',\n",
       "  'closest',\n",
       "  'thing',\n",
       "  'grandchild'],\n",
       " ['boehner',\n",
       "  'wants',\n",
       "  'wife',\n",
       "  'listen',\n",
       "  'come',\n",
       "  'alternative',\n",
       "  'debtreduction',\n",
       "  'ideas'],\n",
       " ['jk', 'rowling', 'wishes', 'snape', 'happy', 'birthday', 'magical', 'way'],\n",
       " ['advancing', 'worlds', 'women'],\n",
       " ['fascinating', 'case', 'eating', 'labgrown', 'meat'],\n",
       " ['ceo', 'send', 'kids', 'school', 'work', 'company'],\n",
       " ['top', 'snake', 'handler', 'leaves', 'sinking', 'huckabee', 'campaign'],\n",
       " ['fridays', 'morning', 'email', 'inside', 'trumps', 'presser', 'ages']]"
      ]
     },
     "execution_count": 58,
     "metadata": {
      "tags": []
     },
     "output_type": "execute_result"
    }
   ],
   "source": [
    "import string\n",
    "from nltk.tokenize import word_tokenize\n",
    "from nltk.corpus import stopwords\n",
    "\n",
    "def CleanTokenize(df):\n",
    "    head_lines = list()\n",
    "    lines = df[\"headline\"].values.tolist()\n",
    "\n",
    "    for line in lines:\n",
    "        line = clean_text(line)\n",
    "        # tokenize the text\n",
    "        tokens = word_tokenize(line)\n",
    "        # remove puntuations\n",
    "        table = str.maketrans('', '', string.punctuation)\n",
    "        stripped = [w.translate(table) for w in tokens]\n",
    "        # remove non alphabetic characters\n",
    "        words = [word for word in stripped if word.isalpha()]\n",
    "        stop_words = set(stopwords.words(\"english\"))\n",
    "        # remove stop words\n",
    "        words = [w for w in words if not w in stop_words]\n",
    "        head_lines.append(words)\n",
    "    return head_lines\n",
    "\n",
    "head_lines = CleanTokenize(data)\n",
    "head_lines[0:10]"
   ]
  },
  {
   "cell_type": "markdown",
   "metadata": {
    "id": "SMF-wjJ2aMwm"
   },
   "source": [
    "### Initialize parameter values\n",
    "- Set values for max_features, maxlen, & embedding_size\n",
    "- max_features: Number of words to take from tokenizer(most frequent words)\n",
    "- maxlen: Maximum length of each sentence to be limited to 25\n",
    "- embedding_size: size of embedding vector"
   ]
  },
  {
   "cell_type": "code",
   "execution_count": 59,
   "metadata": {
    "id": "jPw9gAN_EV6m"
   },
   "outputs": [],
   "source": [
    "max_features = 10000\n",
    "maxlen = 25\n",
    "embedding_size = 200"
   ]
  },
  {
   "cell_type": "markdown",
   "metadata": {
    "id": "9abSe-bM8fn9"
   },
   "source": [
    "### Apply `tensorflow.keras` Tokenizer and get indices for words (3 Marks)\n",
    "- Initialize Tokenizer object with number of words as 10000\n",
    "- Fit the tokenizer object on headline column\n",
    "- Convert the text to sequence\n"
   ]
  },
  {
   "cell_type": "code",
   "execution_count": 60,
   "metadata": {
    "id": "y8g4l0KfF3eh"
   },
   "outputs": [],
   "source": [
    "from keras.preprocessing.text import Tokenizer\n",
    "\n",
    "tokenizer = Tokenizer()\n",
    "tokenizer.fit_on_texts(head_lines)\n",
    "sequences = tokenizer.texts_to_sequences(head_lines)"
   ]
  },
  {
   "cell_type": "code",
   "execution_count": 61,
   "metadata": {
    "colab": {
     "base_uri": "https://localhost:8080/",
     "height": 34
    },
    "id": "LgjaLhbTiu1v",
    "outputId": "51c545ef-6768-4dcd-8f66-76836dd2c330"
   },
   "outputs": [
    {
     "name": "stdout",
     "output_type": "stream",
     "text": [
      "unique tokens -  27483\n"
     ]
    }
   ],
   "source": [
    "word_index = tokenizer.word_index\n",
    "print(\"unique tokens - \",len(word_index))"
   ]
  },
  {
   "cell_type": "markdown",
   "metadata": {
    "id": "xeZpwPO4bOkZ"
   },
   "source": [
    "### Pad sequences (3 Marks)\n",
    "- Pad each example with a maximum length\n",
    "- Convert target column into numpy array"
   ]
  },
  {
   "cell_type": "code",
   "execution_count": 62,
   "metadata": {
    "id": "qV0K70E5c9Xl"
   },
   "outputs": [],
   "source": [
    "from tensorflow.keras.preprocessing.sequence import pad_sequences\n",
    "lines_pad = pad_sequences(sequences, maxlen=maxlen)\n",
    "sentiment =  data['is_sarcastic'].values\n",
    "\n",
    "indices = np.arange(lines_pad.shape[0])\n",
    "np.random.shuffle(indices)\n",
    "lines_pad = lines_pad[indices]\n",
    "sentiment = sentiment[indices]\n",
    "\n",
    "validation_split=0.2\n",
    "num_validation_samples = int(validation_split * lines_pad.shape[0])\n",
    "\n",
    "X_train_pad = lines_pad[:-num_validation_samples]\n",
    "y_train = sentiment[:-num_validation_samples]\n",
    "X_test_pad = lines_pad[-num_validation_samples:]\n",
    "y_test = sentiment[-num_validation_samples:]"
   ]
  },
  {
   "cell_type": "code",
   "execution_count": 63,
   "metadata": {
    "colab": {
     "base_uri": "https://localhost:8080/",
     "height": 85
    },
    "id": "a5F9DSwDwR7r",
    "outputId": "3c34d835-c947-43be-b35b-cb063731c544"
   },
   "outputs": [
    {
     "name": "stdout",
     "output_type": "stream",
     "text": [
      "Shape of X_train_pad: (21368, 25)\n",
      "Shape of y_train: (21368,)\n",
      "Shape of X_test_pad: (5341, 25)\n",
      "Shape of y_test: (5341,)\n"
     ]
    }
   ],
   "source": [
    "print('Shape of X_train_pad:', X_train_pad.shape)\n",
    "print('Shape of y_train:', y_train.shape)\n",
    "\n",
    "print('Shape of X_test_pad:', X_test_pad.shape)\n",
    "print('Shape of y_test:', y_test.shape)"
   ]
  },
  {
   "cell_type": "markdown",
   "metadata": {
    "id": "WJLyKg-98rH_"
   },
   "source": [
    "### Vocab mapping\n",
    "- There is no word for 0th index"
   ]
  },
  {
   "cell_type": "code",
   "execution_count": 64,
   "metadata": {
    "colab": {
     "base_uri": "https://localhost:8080/",
     "height": 1000
    },
    "id": "vCNgtnQqdbZn",
    "outputId": "a9a04837-73e4-4467-b7fc-e100219512bc"
   },
   "outputs": [
    {
     "data": {
      "text/plain": [
       "{'new': 1,\n",
       " 'trump': 2,\n",
       " 'man': 3,\n",
       " 'us': 4,\n",
       " 'report': 5,\n",
       " 'one': 6,\n",
       " 'area': 7,\n",
       " 'donald': 8,\n",
       " 'says': 9,\n",
       " 'woman': 10,\n",
       " 'day': 11,\n",
       " 'time': 12,\n",
       " 'first': 13,\n",
       " 'like': 14,\n",
       " 'get': 15,\n",
       " 'trumps': 16,\n",
       " 'people': 17,\n",
       " 'obama': 18,\n",
       " 'house': 19,\n",
       " 'life': 20,\n",
       " 'make': 21,\n",
       " 'still': 22,\n",
       " 'women': 23,\n",
       " 'white': 24,\n",
       " 'could': 25,\n",
       " 'back': 26,\n",
       " 'clinton': 27,\n",
       " 'would': 28,\n",
       " 'world': 29,\n",
       " 'years': 30,\n",
       " 'family': 31,\n",
       " 'americans': 32,\n",
       " 'way': 33,\n",
       " 'black': 34,\n",
       " 'gop': 35,\n",
       " 'study': 36,\n",
       " 'bill': 37,\n",
       " 'best': 38,\n",
       " 'police': 39,\n",
       " 'watch': 40,\n",
       " 'american': 41,\n",
       " 'really': 42,\n",
       " 'show': 43,\n",
       " 'school': 44,\n",
       " 'know': 45,\n",
       " 'things': 46,\n",
       " 'good': 47,\n",
       " 'home': 48,\n",
       " 'president': 49,\n",
       " 'finds': 50,\n",
       " 'death': 51,\n",
       " 'year': 52,\n",
       " 'say': 53,\n",
       " 'video': 54,\n",
       " 'nation': 55,\n",
       " 'going': 56,\n",
       " 'love': 57,\n",
       " 'health': 58,\n",
       " 'last': 59,\n",
       " 'state': 60,\n",
       " 'hillary': 61,\n",
       " 'big': 62,\n",
       " 'parents': 63,\n",
       " 'may': 64,\n",
       " 'every': 65,\n",
       " 'mom': 66,\n",
       " 'kids': 67,\n",
       " 'campaign': 68,\n",
       " 'need': 69,\n",
       " 'gets': 70,\n",
       " 'getting': 71,\n",
       " 'party': 72,\n",
       " 'little': 73,\n",
       " 'work': 74,\n",
       " 'right': 75,\n",
       " 'change': 76,\n",
       " 'take': 77,\n",
       " 'makes': 78,\n",
       " 'dead': 79,\n",
       " 'america': 80,\n",
       " 'calls': 81,\n",
       " 'news': 82,\n",
       " 'court': 83,\n",
       " 'john': 84,\n",
       " 'doesnt': 85,\n",
       " 'heres': 86,\n",
       " 'want': 87,\n",
       " 'never': 88,\n",
       " 'look': 89,\n",
       " 'child': 90,\n",
       " 'takes': 91,\n",
       " 'war': 92,\n",
       " 'nations': 93,\n",
       " 'see': 94,\n",
       " 'gay': 95,\n",
       " 'next': 96,\n",
       " 'local': 97,\n",
       " 'stop': 98,\n",
       " 'go': 99,\n",
       " 'star': 100,\n",
       " 'even': 101,\n",
       " 'guy': 102,\n",
       " 'election': 103,\n",
       " 'college': 104,\n",
       " 'bush': 105,\n",
       " 'office': 106,\n",
       " 'plan': 107,\n",
       " 'got': 108,\n",
       " 'another': 109,\n",
       " 'thing': 110,\n",
       " 'around': 111,\n",
       " 'game': 112,\n",
       " 'dad': 113,\n",
       " 'made': 114,\n",
       " 'help': 115,\n",
       " 'dog': 116,\n",
       " 'baby': 117,\n",
       " 'real': 118,\n",
       " 'week': 119,\n",
       " 'wants': 120,\n",
       " 'gun': 121,\n",
       " 'job': 122,\n",
       " 'debate': 123,\n",
       " 'million': 124,\n",
       " 'live': 125,\n",
       " 'actually': 126,\n",
       " 'care': 127,\n",
       " 'congress': 128,\n",
       " 'friends': 129,\n",
       " 'high': 130,\n",
       " 'finally': 131,\n",
       " 'much': 132,\n",
       " 'north': 133,\n",
       " 'ever': 134,\n",
       " 'sex': 135,\n",
       " 'national': 136,\n",
       " 'students': 137,\n",
       " 'mans': 138,\n",
       " 'couple': 139,\n",
       " 'ways': 140,\n",
       " 'climate': 141,\n",
       " 'bad': 142,\n",
       " 'money': 143,\n",
       " 'god': 144,\n",
       " 'two': 145,\n",
       " 'shows': 146,\n",
       " 'better': 147,\n",
       " 'top': 148,\n",
       " 'give': 149,\n",
       " 'season': 150,\n",
       " 'night': 151,\n",
       " 'media': 152,\n",
       " 'teen': 153,\n",
       " 'shooting': 154,\n",
       " 'men': 155,\n",
       " 'reveals': 156,\n",
       " 'story': 157,\n",
       " 'trying': 158,\n",
       " 'sexual': 159,\n",
       " 'paul': 160,\n",
       " 'senate': 161,\n",
       " 'without': 162,\n",
       " 'away': 163,\n",
       " 'city': 164,\n",
       " 'supreme': 165,\n",
       " 'history': 166,\n",
       " 'old': 167,\n",
       " 'food': 168,\n",
       " 'announces': 169,\n",
       " 'making': 170,\n",
       " 'everyone': 171,\n",
       " 'children': 172,\n",
       " 'attack': 173,\n",
       " 'fight': 174,\n",
       " 'business': 175,\n",
       " 'deal': 176,\n",
       " 'enough': 177,\n",
       " 'facebook': 178,\n",
       " 'york': 179,\n",
       " 'face': 180,\n",
       " 'movie': 181,\n",
       " 'end': 182,\n",
       " 'introduces': 183,\n",
       " 'great': 184,\n",
       " 'pope': 185,\n",
       " 'sanders': 186,\n",
       " 'law': 187,\n",
       " 'friend': 188,\n",
       " 'part': 189,\n",
       " 'tell': 190,\n",
       " 'call': 191,\n",
       " 'tv': 192,\n",
       " 'former': 193,\n",
       " 'entire': 194,\n",
       " 'film': 195,\n",
       " 'son': 196,\n",
       " 'fire': 197,\n",
       " 'wedding': 198,\n",
       " 'found': 199,\n",
       " 'find': 200,\n",
       " 'book': 201,\n",
       " 'body': 202,\n",
       " 'government': 203,\n",
       " 'think': 204,\n",
       " 'come': 205,\n",
       " 'email': 206,\n",
       " 'girl': 207,\n",
       " 'pretty': 208,\n",
       " 'support': 209,\n",
       " 'speech': 210,\n",
       " 'republican': 211,\n",
       " 'single': 212,\n",
       " 'coming': 213,\n",
       " 'morning': 214,\n",
       " 'self': 215,\n",
       " 'photos': 216,\n",
       " 'presidential': 217,\n",
       " 'james': 218,\n",
       " 'car': 219,\n",
       " 'future': 220,\n",
       " 'republicans': 221,\n",
       " 'use': 222,\n",
       " 'keep': 223,\n",
       " 'power': 224,\n",
       " 'thinks': 225,\n",
       " 'public': 226,\n",
       " 'run': 227,\n",
       " 'rights': 228,\n",
       " 'christmas': 229,\n",
       " 'name': 230,\n",
       " 'already': 231,\n",
       " 'didnt': 232,\n",
       " 'democrats': 233,\n",
       " 'talk': 234,\n",
       " 'case': 235,\n",
       " 'company': 236,\n",
       " 'fans': 237,\n",
       " 'marriage': 238,\n",
       " 'violence': 239,\n",
       " 'girls': 240,\n",
       " 'voters': 241,\n",
       " 'behind': 242,\n",
       " 'line': 243,\n",
       " 'releases': 244,\n",
       " 'worlds': 245,\n",
       " 'tax': 246,\n",
       " 'race': 247,\n",
       " 'killed': 248,\n",
       " 'security': 249,\n",
       " 'vote': 250,\n",
       " 'human': 251,\n",
       " 'states': 252,\n",
       " 'might': 253,\n",
       " 'secret': 254,\n",
       " 'used': 255,\n",
       " 'goes': 256,\n",
       " 'long': 257,\n",
       " 'something': 258,\n",
       " 'must': 259,\n",
       " 'group': 260,\n",
       " 'days': 261,\n",
       " 'asks': 262,\n",
       " 'free': 263,\n",
       " 'ban': 264,\n",
       " 'win': 265,\n",
       " 'bernie': 266,\n",
       " 'twitter': 267,\n",
       " 'student': 268,\n",
       " 'team': 269,\n",
       " 'times': 270,\n",
       " 'boy': 271,\n",
       " 'open': 272,\n",
       " 'looking': 273,\n",
       " 'poll': 274,\n",
       " 'room': 275,\n",
       " 'department': 276,\n",
       " 'ad': 277,\n",
       " 'ryan': 278,\n",
       " 'sure': 279,\n",
       " 'middle': 280,\n",
       " 'political': 281,\n",
       " 'inside': 282,\n",
       " 'teacher': 283,\n",
       " 'minutes': 284,\n",
       " 'claims': 285,\n",
       " 'control': 286,\n",
       " 'super': 287,\n",
       " 'judge': 288,\n",
       " 'art': 289,\n",
       " 'many': 290,\n",
       " 'country': 291,\n",
       " 'forced': 292,\n",
       " 'lets': 293,\n",
       " 'music': 294,\n",
       " 'perfect': 295,\n",
       " 'save': 296,\n",
       " 'meet': 297,\n",
       " 'plans': 298,\n",
       " 'missing': 299,\n",
       " 'running': 300,\n",
       " 'unveils': 301,\n",
       " 'obamacare': 302,\n",
       " 'second': 303,\n",
       " 'reports': 304,\n",
       " 'living': 305,\n",
       " 'everything': 306,\n",
       " 'scientists': 307,\n",
       " 'social': 308,\n",
       " 'put': 309,\n",
       " 'wife': 310,\n",
       " 'tells': 311,\n",
       " 'california': 312,\n",
       " 'always': 313,\n",
       " 'justice': 314,\n",
       " 'photo': 315,\n",
       " 'person': 316,\n",
       " 'summer': 317,\n",
       " 'dies': 318,\n",
       " 'let': 319,\n",
       " 'red': 320,\n",
       " 'texas': 321,\n",
       " 'female': 322,\n",
       " 'full': 323,\n",
       " 'looks': 324,\n",
       " 'talks': 325,\n",
       " 'candidate': 326,\n",
       " 'pay': 327,\n",
       " 'ready': 328,\n",
       " 'comes': 329,\n",
       " 'head': 330,\n",
       " 'michael': 331,\n",
       " 'secretary': 332,\n",
       " 'employee': 333,\n",
       " 'mother': 334,\n",
       " 'needs': 335,\n",
       " 'warns': 336,\n",
       " 'water': 337,\n",
       " 'list': 338,\n",
       " 'father': 339,\n",
       " 'lives': 340,\n",
       " 'past': 341,\n",
       " 'admits': 342,\n",
       " 'mike': 343,\n",
       " 'taking': 344,\n",
       " 'wall': 345,\n",
       " 'ceo': 346,\n",
       " 'working': 347,\n",
       " 'womens': 348,\n",
       " 'cancer': 349,\n",
       " 'set': 350,\n",
       " 'wrong': 351,\n",
       " 'crisis': 352,\n",
       " 'record': 353,\n",
       " 'gives': 354,\n",
       " 'today': 355,\n",
       " 'biden': 356,\n",
       " 'idea': 357,\n",
       " 'thought': 358,\n",
       " 'kim': 359,\n",
       " 'letter': 360,\n",
       " 'george': 361,\n",
       " 'shot': 362,\n",
       " 'hot': 363,\n",
       " 'cruz': 364,\n",
       " 'wins': 365,\n",
       " 'stars': 366,\n",
       " 'left': 367,\n",
       " 'town': 368,\n",
       " 'heart': 369,\n",
       " 'hours': 370,\n",
       " 'probably': 371,\n",
       " 'start': 372,\n",
       " 'romney': 373,\n",
       " 'young': 374,\n",
       " 'meeting': 375,\n",
       " 'south': 376,\n",
       " 'korea': 377,\n",
       " 'lost': 378,\n",
       " 'dream': 379,\n",
       " 'daughter': 380,\n",
       " 'percent': 381,\n",
       " 'education': 382,\n",
       " 'tips': 383,\n",
       " 'service': 384,\n",
       " 'nothing': 385,\n",
       " 'moms': 386,\n",
       " 'fbi': 387,\n",
       " 'street': 388,\n",
       " 'obamas': 389,\n",
       " 'place': 390,\n",
       " 'kill': 391,\n",
       " 'age': 392,\n",
       " 'three': 393,\n",
       " 'isis': 394,\n",
       " 'russia': 395,\n",
       " 'thousands': 396,\n",
       " 'breaking': 397,\n",
       " 'phone': 398,\n",
       " 'fucking': 399,\n",
       " 'believe': 400,\n",
       " 'tweets': 401,\n",
       " 'together': 402,\n",
       " 'someone': 403,\n",
       " 'rock': 404,\n",
       " 'eating': 405,\n",
       " 'chief': 406,\n",
       " 'march': 407,\n",
       " 'yet': 408,\n",
       " 'washington': 409,\n",
       " 'officials': 410,\n",
       " 'restaurant': 411,\n",
       " 'administration': 412,\n",
       " 'talking': 413,\n",
       " 'online': 414,\n",
       " 'feel': 415,\n",
       " 'cat': 416,\n",
       " 'leaves': 417,\n",
       " 'ted': 418,\n",
       " 'francis': 419,\n",
       " 'questions': 420,\n",
       " 'military': 421,\n",
       " 'fan': 422,\n",
       " 'class': 423,\n",
       " 'guide': 424,\n",
       " 'order': 425,\n",
       " 'owner': 426,\n",
       " 'director': 427,\n",
       " 'months': 428,\n",
       " 'federal': 429,\n",
       " 'chris': 430,\n",
       " 'attacks': 431,\n",
       " 'birthday': 432,\n",
       " 'earth': 433,\n",
       " 'move': 434,\n",
       " 'internet': 435,\n",
       " 'giving': 436,\n",
       " 'air': 437,\n",
       " 'problem': 438,\n",
       " 'hollywood': 439,\n",
       " 'florida': 440,\n",
       " 'ask': 441,\n",
       " 'beautiful': 442,\n",
       " 'small': 443,\n",
       " 'king': 444,\n",
       " 'reason': 445,\n",
       " 'sleep': 446,\n",
       " 'latest': 447,\n",
       " 'series': 448,\n",
       " 'happy': 449,\n",
       " 'nuclear': 450,\n",
       " 'americas': 451,\n",
       " 'congressman': 452,\n",
       " 'drug': 453,\n",
       " 'assault': 454,\n",
       " 'word': 455,\n",
       " 'buy': 456,\n",
       " 'personal': 457,\n",
       " 'rules': 458,\n",
       " 'less': 459,\n",
       " 'majority': 460,\n",
       " 'prison': 461,\n",
       " 'told': 462,\n",
       " 'democratic': 463,\n",
       " 'outside': 464,\n",
       " 'different': 465,\n",
       " 'lot': 466,\n",
       " 'shit': 467,\n",
       " 'moment': 468,\n",
       " 'isnt': 469,\n",
       " 'iran': 470,\n",
       " 'reasons': 471,\n",
       " 'leaders': 472,\n",
       " 'holiday': 473,\n",
       " 'fox': 474,\n",
       " 'community': 475,\n",
       " 'leave': 476,\n",
       " 'travel': 477,\n",
       " 'kind': 478,\n",
       " 'system': 479,\n",
       " 'response': 480,\n",
       " 'rise': 481,\n",
       " 'hard': 482,\n",
       " 'play': 483,\n",
       " 'victims': 484,\n",
       " 'fun': 485,\n",
       " 'favorite': 486,\n",
       " 'mark': 487,\n",
       " 'issues': 488,\n",
       " 'interview': 489,\n",
       " 'relationship': 490,\n",
       " 'jimmy': 491,\n",
       " 'month': 492,\n",
       " 'huge': 493,\n",
       " 'box': 494,\n",
       " 'celebrates': 495,\n",
       " 'special': 496,\n",
       " 'mothers': 497,\n",
       " 'excited': 498,\n",
       " 'kid': 499,\n",
       " 'huffpost': 500,\n",
       " 'immigration': 501,\n",
       " 'protest': 502,\n",
       " 'bar': 503,\n",
       " 'scott': 504,\n",
       " 'gift': 505,\n",
       " 'following': 506,\n",
       " 'hope': 507,\n",
       " 'cops': 508,\n",
       " 'using': 509,\n",
       " 'offers': 510,\n",
       " 'thinking': 511,\n",
       " 'message': 512,\n",
       " 'trailer': 513,\n",
       " 'trip': 514,\n",
       " 'read': 515,\n",
       " 'knows': 516,\n",
       " 'politics': 517,\n",
       " 'weekend': 518,\n",
       " 'ice': 519,\n",
       " 'watching': 520,\n",
       " 'candidates': 521,\n",
       " 'visit': 522,\n",
       " 'stephen': 523,\n",
       " 'muslim': 524,\n",
       " 'straight': 525,\n",
       " 'lessons': 526,\n",
       " 'david': 527,\n",
       " 'union': 528,\n",
       " 'hate': 529,\n",
       " 'tom': 530,\n",
       " 'since': 531,\n",
       " 'china': 532,\n",
       " 'hit': 533,\n",
       " 'russian': 534,\n",
       " 'cover': 535,\n",
       " 'accused': 536,\n",
       " 'taylor': 537,\n",
       " 'front': 538,\n",
       " 'bring': 539,\n",
       " 'anything': 540,\n",
       " 'senator': 541,\n",
       " 'schools': 542,\n",
       " 'employees': 543,\n",
       " 'conversation': 544,\n",
       " 'hair': 545,\n",
       " 'millions': 546,\n",
       " 'un': 547,\n",
       " 'queer': 548,\n",
       " 'least': 549,\n",
       " 'chinese': 550,\n",
       " 'adorable': 551,\n",
       " 'birth': 552,\n",
       " 'cop': 553,\n",
       " 'break': 554,\n",
       " 'words': 555,\n",
       " 'joe': 556,\n",
       " 'syria': 557,\n",
       " 'powerful': 558,\n",
       " 'drunk': 559,\n",
       " 'united': 560,\n",
       " 'reality': 561,\n",
       " 'leader': 562,\n",
       " 'mass': 563,\n",
       " 'date': 564,\n",
       " 'billion': 565,\n",
       " 'become': 566,\n",
       " 'investigation': 567,\n",
       " 'opens': 568,\n",
       " 'whole': 569,\n",
       " 'third': 570,\n",
       " 'theres': 571,\n",
       " 'learned': 572,\n",
       " 'totally': 573,\n",
       " 'career': 574,\n",
       " 'true': 575,\n",
       " 'waiting': 576,\n",
       " 'stage': 577,\n",
       " 'returns': 578,\n",
       " 'early': 579,\n",
       " 'syrian': 580,\n",
       " 'massive': 581,\n",
       " 'almost': 582,\n",
       " 'wars': 583,\n",
       " 'fashion': 584,\n",
       " 'turn': 585,\n",
       " 'workers': 586,\n",
       " 'breaks': 587,\n",
       " 'point': 588,\n",
       " 'well': 589,\n",
       " 'fall': 590,\n",
       " 'feels': 591,\n",
       " 'girlfriend': 592,\n",
       " 'policy': 593,\n",
       " 'die': 594,\n",
       " 'hits': 595,\n",
       " 'killing': 596,\n",
       " 'apple': 597,\n",
       " 'sports': 598,\n",
       " 'awards': 599,\n",
       " 'worried': 600,\n",
       " 'kills': 601,\n",
       " 'abortion': 602,\n",
       " 'iraq': 603,\n",
       " 'song': 604,\n",
       " 'wearing': 605,\n",
       " 'dance': 606,\n",
       " 'dating': 607,\n",
       " 'turns': 608,\n",
       " 'teens': 609,\n",
       " 'completely': 610,\n",
       " 'puts': 611,\n",
       " 'spends': 612,\n",
       " 'dinner': 613,\n",
       " 'vows': 614,\n",
       " 'sick': 615,\n",
       " 'late': 616,\n",
       " 'crash': 617,\n",
       " 'worst': 618,\n",
       " 'names': 619,\n",
       " 'final': 620,\n",
       " 'global': 621,\n",
       " 'weird': 622,\n",
       " 'signs': 623,\n",
       " 'sign': 624,\n",
       " 'murder': 625,\n",
       " 'host': 626,\n",
       " 'pence': 627,\n",
       " 'prince': 628,\n",
       " 'trans': 629,\n",
       " 'experience': 630,\n",
       " 'reportedly': 631,\n",
       " 'adds': 632,\n",
       " 'fighting': 633,\n",
       " 'surprise': 634,\n",
       " 'hands': 635,\n",
       " 'transgender': 636,\n",
       " 'key': 637,\n",
       " 'anniversary': 638,\n",
       " 'moving': 639,\n",
       " 'seen': 640,\n",
       " 'called': 641,\n",
       " 'center': 642,\n",
       " 'decision': 643,\n",
       " 'force': 644,\n",
       " 'paris': 645,\n",
       " 'members': 646,\n",
       " 'advice': 647,\n",
       " 'bus': 648,\n",
       " 'road': 649,\n",
       " 'post': 650,\n",
       " 'struggling': 651,\n",
       " 'discover': 652,\n",
       " 'nfl': 653,\n",
       " 'act': 654,\n",
       " 'across': 655,\n",
       " 'kardashian': 656,\n",
       " 'return': 657,\n",
       " 'keeps': 658,\n",
       " 'users': 659,\n",
       " 'official': 660,\n",
       " 'suicide': 661,\n",
       " 'store': 662,\n",
       " 'fear': 663,\n",
       " 'lose': 664,\n",
       " 'longer': 665,\n",
       " 'voice': 666,\n",
       " 'rubio': 667,\n",
       " 'peace': 668,\n",
       " 'brings': 669,\n",
       " 'boys': 670,\n",
       " 'planned': 671,\n",
       " 'lead': 672,\n",
       " 'weeks': 673,\n",
       " 'walking': 674,\n",
       " 'important': 675,\n",
       " 'university': 676,\n",
       " 'reform': 677,\n",
       " 'coworker': 678,\n",
       " 'light': 679,\n",
       " 'ferguson': 680,\n",
       " 'industry': 681,\n",
       " 'starting': 682,\n",
       " 'program': 683,\n",
       " 'artist': 684,\n",
       " 'oil': 685,\n",
       " 'coffee': 686,\n",
       " 'whether': 687,\n",
       " 'weight': 688,\n",
       " 'worth': 689,\n",
       " 'eat': 690,\n",
       " 'west': 691,\n",
       " 'oscars': 692,\n",
       " 'audience': 693,\n",
       " 'hoping': 694,\n",
       " 'steve': 695,\n",
       " 'jobs': 696,\n",
       " 'wait': 697,\n",
       " 'suspect': 698,\n",
       " 'harry': 699,\n",
       " 'given': 700,\n",
       " 'stand': 701,\n",
       " 'magazine': 702,\n",
       " 'question': 703,\n",
       " 'band': 704,\n",
       " 'biggest': 705,\n",
       " 'hall': 706,\n",
       " 'nyc': 707,\n",
       " 'major': 708,\n",
       " 'michelle': 709,\n",
       " 'beauty': 710,\n",
       " 'risk': 711,\n",
       " 'remember': 712,\n",
       " 'chicago': 713,\n",
       " 'possible': 714,\n",
       " 'test': 715,\n",
       " 'apartment': 716,\n",
       " 'governor': 717,\n",
       " 'iowa': 718,\n",
       " 'executive': 719,\n",
       " 'success': 720,\n",
       " 'mind': 721,\n",
       " 'chance': 722,\n",
       " 'amazon': 723,\n",
       " 'protesters': 724,\n",
       " 'ideas': 725,\n",
       " 'williams': 726,\n",
       " 'abuse': 727,\n",
       " 'clearly': 728,\n",
       " 'role': 729,\n",
       " 'supporters': 730,\n",
       " 'google': 731,\n",
       " 'hurricane': 732,\n",
       " 'space': 733,\n",
       " 'moore': 734,\n",
       " 'carolina': 735,\n",
       " 'allegations': 736,\n",
       " 'halloween': 737,\n",
       " 'poor': 738,\n",
       " 'five': 739,\n",
       " 'planet': 740,\n",
       " 'hand': 741,\n",
       " 'playing': 742,\n",
       " 'cool': 743,\n",
       " 'mental': 744,\n",
       " 'try': 745,\n",
       " 'cut': 746,\n",
       " 'tour': 747,\n",
       " 'hear': 748,\n",
       " 'demands': 749,\n",
       " 'press': 750,\n",
       " 'wishes': 751,\n",
       " 'refugees': 752,\n",
       " 'green': 753,\n",
       " 'problems': 754,\n",
       " 'asking': 755,\n",
       " 'celebrate': 756,\n",
       " 'push': 757,\n",
       " 'fuck': 758,\n",
       " 'oscar': 759,\n",
       " 'park': 760,\n",
       " 'far': 761,\n",
       " 'homeless': 762,\n",
       " 'plane': 763,\n",
       " 'football': 764,\n",
       " 'eyes': 765,\n",
       " 'general': 766,\n",
       " 'sean': 767,\n",
       " 'jr': 768,\n",
       " 'vacation': 769,\n",
       " 'throws': 770,\n",
       " 'ben': 771,\n",
       " 'table': 772,\n",
       " 'hilarious': 773,\n",
       " 'pregnant': 774,\n",
       " 'dying': 775,\n",
       " 'colbert': 776,\n",
       " 'side': 777,\n",
       " 'urges': 778,\n",
       " 'reveal': 779,\n",
       " 'simple': 780,\n",
       " 'economy': 781,\n",
       " 'emotional': 782,\n",
       " 'robert': 783,\n",
       " 'building': 784,\n",
       " 'learn': 785,\n",
       " 'number': 786,\n",
       " 'album': 787,\n",
       " 'receives': 788,\n",
       " 'church': 789,\n",
       " 'begins': 790,\n",
       " 'happened': 791,\n",
       " 'uses': 792,\n",
       " 'families': 793,\n",
       " 'card': 794,\n",
       " 'kerry': 795,\n",
       " 'picture': 796,\n",
       " 'marijuana': 797,\n",
       " 'fails': 798,\n",
       " 'voter': 799,\n",
       " 'proud': 800,\n",
       " 'humans': 801,\n",
       " 'board': 802,\n",
       " 'shares': 803,\n",
       " 'leads': 804,\n",
       " 'feeling': 805,\n",
       " 'suggests': 806,\n",
       " 'amazing': 807,\n",
       " 'results': 808,\n",
       " 'guys': 809,\n",
       " 'worse': 810,\n",
       " 'dogs': 811,\n",
       " 'hour': 812,\n",
       " 'check': 813,\n",
       " 'queen': 814,\n",
       " 'jenner': 815,\n",
       " 'racist': 816,\n",
       " 'arrested': 817,\n",
       " 'driving': 818,\n",
       " 'male': 819,\n",
       " 'leaving': 820,\n",
       " 'address': 821,\n",
       " 'rest': 822,\n",
       " 'performance': 823,\n",
       " 'amid': 824,\n",
       " 'epa': 825,\n",
       " 'finding': 826,\n",
       " 'door': 827,\n",
       " 'deadly': 828,\n",
       " 'movies': 829,\n",
       " 'officer': 830,\n",
       " 'netflix': 831,\n",
       " 'easy': 832,\n",
       " 'desperate': 833,\n",
       " 'hero': 834,\n",
       " 'quietly': 835,\n",
       " 'data': 836,\n",
       " 'cnn': 837,\n",
       " 'website': 838,\n",
       " 'doctor': 839,\n",
       " 'older': 840,\n",
       " 'lgbt': 841,\n",
       " 'st': 842,\n",
       " 'pizza': 843,\n",
       " 'close': 844,\n",
       " 'rally': 845,\n",
       " 'sales': 846,\n",
       " 'apparently': 847,\n",
       " 'dads': 848,\n",
       " 'went': 849,\n",
       " 'chicken': 850,\n",
       " 'opening': 851,\n",
       " 'mean': 852,\n",
       " 'said': 853,\n",
       " 'apologizes': 854,\n",
       " 'teachers': 855,\n",
       " 'culture': 856,\n",
       " 'elizabeth': 857,\n",
       " 'ebola': 858,\n",
       " 'responds': 859,\n",
       " 'matter': 860,\n",
       " 'documentary': 861,\n",
       " 'near': 862,\n",
       " 'boss': 863,\n",
       " 'steps': 864,\n",
       " 'snl': 865,\n",
       " 'fake': 866,\n",
       " 'bathroom': 867,\n",
       " 'bowl': 868,\n",
       " 'spring': 869,\n",
       " 'shop': 870,\n",
       " 'harassment': 871,\n",
       " 'israel': 872,\n",
       " 'likely': 873,\n",
       " 'east': 874,\n",
       " 'leading': 875,\n",
       " 'demand': 876,\n",
       " 'pick': 877,\n",
       " 'grandma': 878,\n",
       " 'explains': 879,\n",
       " 'jones': 880,\n",
       " 'energy': 881,\n",
       " 'slams': 882,\n",
       " 'anyone': 883,\n",
       " 'battle': 884,\n",
       " 'train': 885,\n",
       " 'truth': 886,\n",
       " 'toward': 887,\n",
       " 'actor': 888,\n",
       " 'done': 889,\n",
       " 'kelly': 890,\n",
       " 'senators': 891,\n",
       " 'arent': 892,\n",
       " 'swift': 893,\n",
       " 'coworkers': 894,\n",
       " 'voting': 895,\n",
       " 'prevent': 896,\n",
       " 'private': 897,\n",
       " 'despite': 898,\n",
       " 'perfectly': 899,\n",
       " 'loses': 900,\n",
       " 'manager': 901,\n",
       " 'crime': 902,\n",
       " 'also': 903,\n",
       " 'sad': 904,\n",
       " 'telling': 905,\n",
       " 'al': 906,\n",
       " 'commercial': 907,\n",
       " 'nice': 908,\n",
       " 'hopes': 909,\n",
       " 'youth': 910,\n",
       " 'action': 911,\n",
       " 'san': 912,\n",
       " 'gave': 913,\n",
       " 'spend': 914,\n",
       " 'reporter': 915,\n",
       " 'happens': 916,\n",
       " 'winter': 917,\n",
       " 'historical': 918,\n",
       " 'olympic': 919,\n",
       " 'defense': 920,\n",
       " 'residents': 921,\n",
       " 'hospital': 922,\n",
       " 'foreign': 923,\n",
       " 'soon': 924,\n",
       " 'avoid': 925,\n",
       " 'short': 926,\n",
       " 'forward': 927,\n",
       " 'eric': 928,\n",
       " 'reminds': 929,\n",
       " 'driver': 930,\n",
       " 'loss': 931,\n",
       " 'healthy': 932,\n",
       " 'color': 933,\n",
       " 'fast': 934,\n",
       " 'womans': 935,\n",
       " 'repeal': 936,\n",
       " 'jeff': 937,\n",
       " 'eye': 938,\n",
       " 'holding': 939,\n",
       " 'faces': 940,\n",
       " 'martin': 941,\n",
       " 'tweet': 942,\n",
       " 'evidence': 943,\n",
       " 'mayor': 944,\n",
       " 'skin': 945,\n",
       " 'died': 946,\n",
       " 'sound': 947,\n",
       " 'budget': 948,\n",
       " 'episode': 949,\n",
       " 'rape': 950,\n",
       " 'fired': 951,\n",
       " 'sons': 952,\n",
       " 'threat': 953,\n",
       " 'legal': 954,\n",
       " 'airport': 955,\n",
       " 'nearly': 956,\n",
       " 'christian': 957,\n",
       " 'doctors': 958,\n",
       " 'hotel': 959,\n",
       " 'comments': 960,\n",
       " 'announce': 961,\n",
       " 'clean': 962,\n",
       " 'trade': 963,\n",
       " 'immigrants': 964,\n",
       " 'scandal': 965,\n",
       " 'hasnt': 966,\n",
       " 'learning': 967,\n",
       " 'tired': 968,\n",
       " 'staff': 969,\n",
       " 'protect': 970,\n",
       " 'gold': 971,\n",
       " 'hell': 972,\n",
       " 'accidentally': 973,\n",
       " 'passes': 974,\n",
       " 'fathers': 975,\n",
       " 'spot': 976,\n",
       " 'activists': 977,\n",
       " 'issue': 978,\n",
       " 'bank': 979,\n",
       " 'crowd': 980,\n",
       " 'create': 981,\n",
       " 'according': 982,\n",
       " 'attempt': 983,\n",
       " 'honor': 984,\n",
       " 'flight': 985,\n",
       " 'beer': 986,\n",
       " 'lawsuit': 987,\n",
       " 'dreams': 988,\n",
       " 'putting': 989,\n",
       " 'dc': 990,\n",
       " 'review': 991,\n",
       " 'jennifer': 992,\n",
       " 'religious': 993,\n",
       " 'couples': 994,\n",
       " 'speak': 995,\n",
       " 'comey': 996,\n",
       " 'depression': 997,\n",
       " 'blood': 998,\n",
       " 'dnc': 999,\n",
       " 'incredible': 1000,\n",
       " ...}"
      ]
     },
     "execution_count": 64,
     "metadata": {
      "tags": []
     },
     "output_type": "execute_result"
    }
   ],
   "source": [
    "tokenizer.word_index"
   ]
  },
  {
   "cell_type": "markdown",
   "metadata": {
    "id": "VRiNX58Rb3oJ"
   },
   "source": [
    "### Set number of words\n",
    "- Since the above 0th index doesn't have a word, add 1 to the length of the vocabulary"
   ]
  },
  {
   "cell_type": "code",
   "execution_count": 65,
   "metadata": {
    "colab": {
     "base_uri": "https://localhost:8080/",
     "height": 34
    },
    "id": "Dfwq6ou8ck2f",
    "outputId": "c0121066-ce75-4263-de86-3b3a24cddf1d"
   },
   "outputs": [
    {
     "name": "stdout",
     "output_type": "stream",
     "text": [
      "27484\n"
     ]
    }
   ],
   "source": [
    "num_words = len(tokenizer.word_index) + 1\n",
    "print(num_words)"
   ]
  },
  {
   "cell_type": "markdown",
   "metadata": {
    "id": "bUF1TuQa8ux0"
   },
   "source": [
    "### Load Glove Word Embeddings (3 Marks)"
   ]
  },
  {
   "cell_type": "code",
   "execution_count": 66,
   "metadata": {
    "id": "vq5AIfRtMeZh"
   },
   "outputs": [],
   "source": [
    "import os\n",
    "path = \"/content/drive/My Drive/Colab Notebooks/GL-AIML/Natural Language Processing/Projects/Project 2 - Sequential Models in NLP - Sarcasm Detection/\"\n",
    "os.chdir(path)"
   ]
  },
  {
   "cell_type": "markdown",
   "metadata": {
    "id": "prHSzdQUcZhm"
   },
   "source": [
    "### Create embedding matrix"
   ]
  },
  {
   "cell_type": "code",
   "execution_count": 67,
   "metadata": {
    "id": "elZ-T5aFGZmZ"
   },
   "outputs": [],
   "source": [
    "EMBEDDING_FILE = 'glove.6B.200d.txt'\n",
    "\n",
    "embeddings = {}\n",
    "for o in open(EMBEDDING_FILE):\n",
    "    word = o.split(\" \")[0]\n",
    "    # print(word)\n",
    "    embd = o.split(\" \")[1:]\n",
    "    embd = np.asarray(embd, dtype='float32')\n",
    "    # print(embd)\n",
    "    embeddings[word] = embd\n",
    "\n",
    "# create a weight matrix for words in training docs\n",
    "embedding_matrix = np.zeros((num_words, 200))\n",
    "\n",
    "for word, i in tokenizer.word_index.items():\n",
    "\tembedding_vector = embeddings.get(word)\n",
    "\tif embedding_vector is not None:\n",
    "\t\tembedding_matrix[i] = embedding_vector"
   ]
  },
  {
   "cell_type": "markdown",
   "metadata": {
    "id": "u7IbWuEX82Ra"
   },
   "source": [
    "### Define model (5 Marks)\n",
    "- Hint: Use Sequential model instance and then add Embedding layer, Bidirectional(LSTM) layer, then dense and dropout layers as required. \n",
    "In the end add a final dense layer with sigmoid activation for binary classification."
   ]
  },
  {
   "cell_type": "code",
   "execution_count": 68,
   "metadata": {
    "colab": {
     "base_uri": "https://localhost:8080/",
     "height": 360
    },
    "id": "4tv168Gmc3PY",
    "outputId": "161d8003-29f4-4f86-8e9c-8b34395d6482"
   },
   "outputs": [
    {
     "name": "stdout",
     "output_type": "stream",
     "text": [
      "WARNING:tensorflow:Layer lstm_1 will not use cuDNN kernel since it doesn't meet the cuDNN kernel criteria. It will use generic GPU kernel as fallback when running on GPU\n",
      "WARNING:tensorflow:Layer lstm_1 will not use cuDNN kernel since it doesn't meet the cuDNN kernel criteria. It will use generic GPU kernel as fallback when running on GPU\n",
      "WARNING:tensorflow:Layer lstm_1 will not use cuDNN kernel since it doesn't meet the cuDNN kernel criteria. It will use generic GPU kernel as fallback when running on GPU\n",
      "Summary of the built model...\n",
      "Model: \"sequential_1\"\n",
      "_________________________________________________________________\n",
      "Layer (type)                 Output Shape              Param #   \n",
      "=================================================================\n",
      "embedding_1 (Embedding)      (None, 25, 200)           5496800   \n",
      "_________________________________________________________________\n",
      "bidirectional_1 (Bidirection (None, 128)               135680    \n",
      "_________________________________________________________________\n",
      "dense_1 (Dense)              (None, 1)                 129       \n",
      "=================================================================\n",
      "Total params: 5,632,609\n",
      "Trainable params: 135,809\n",
      "Non-trainable params: 5,496,800\n",
      "_________________________________________________________________\n",
      "None\n"
     ]
    }
   ],
   "source": [
    "from tensorflow.keras.models import Sequential\n",
    "from tensorflow.keras.layers import Dense, Embedding, LSTM, SpatialDropout1D, Flatten, Bidirectional\n",
    "\n",
    "model = Sequential()\n",
    "model.add(Embedding(len(word_index) + 1, embedding_size, weights=[embedding_matrix], input_length=maxlen, trainable=False))\n",
    "model.add(Bidirectional(LSTM(64, dropout=0.2, recurrent_dropout=0.25)))\n",
    "model.add(Dense(1, activation='sigmoid'))\n",
    "\n",
    "print('Summary of the built model...')\n",
    "print(model.summary())"
   ]
  },
  {
   "cell_type": "markdown",
   "metadata": {
    "id": "xoI7_8Y1cqTj"
   },
   "source": [
    "### Compile the model (3 Marks)"
   ]
  },
  {
   "cell_type": "code",
   "execution_count": 69,
   "metadata": {
    "id": "-jJiPHeNoJ3U"
   },
   "outputs": [],
   "source": [
    "model.compile(loss = 'categorical_crossentropy', optimizer='adam',metrics = ['accuracy'])"
   ]
  },
  {
   "cell_type": "markdown",
   "metadata": {
    "id": "7s4nmqcecw3a"
   },
   "source": [
    "### Fit the model (4 Marks)"
   ]
  },
  {
   "cell_type": "code",
   "execution_count": 70,
   "metadata": {
    "colab": {
     "base_uri": "https://localhost:8080/",
     "height": 187
    },
    "id": "2DdxaNQtPZwa",
    "outputId": "a3761cb3-6760-4f5e-b62f-7c0b8bba0da2"
   },
   "outputs": [
    {
     "name": "stdout",
     "output_type": "stream",
     "text": [
      "Epoch 1/5\n",
      "668/668 - 118s - loss: 5.2720e-08 - accuracy: 0.5124 - val_loss: 5.0755e-08 - val_accuracy: 0.5160\n",
      "Epoch 2/5\n",
      "668/668 - 119s - loss: 5.2720e-08 - accuracy: 0.5146 - val_loss: 5.0755e-08 - val_accuracy: 0.5160\n",
      "Epoch 3/5\n",
      "668/668 - 122s - loss: 5.2720e-08 - accuracy: 0.5149 - val_loss: 5.0755e-08 - val_accuracy: 0.5160\n",
      "Epoch 4/5\n",
      "668/668 - 124s - loss: 5.2720e-08 - accuracy: 0.5107 - val_loss: 5.0755e-08 - val_accuracy: 0.5160\n",
      "Epoch 5/5\n",
      "668/668 - 124s - loss: 5.2720e-08 - accuracy: 0.5145 - val_loss: 5.0755e-08 - val_accuracy: 0.5160\n"
     ]
    }
   ],
   "source": [
    "batch_size = 32\n",
    "history = model.fit(X_train_pad, y_train, batch_size=32, epochs=5, validation_data=(X_test_pad, y_test), verbose=2)"
   ]
  },
  {
   "cell_type": "code",
   "execution_count": 91,
   "metadata": {
    "id": "MEcxK67q0ys_"
   },
   "outputs": [],
   "source": [
    "def predict_sarcasm(s):\n",
    "    x_final = pd.DataFrame({\"headline\":[s]})\n",
    "    test_lines = CleanTokenize(x_final)\n",
    "    test_sequences = tokenizer.texts_to_sequences(test_lines)\n",
    "    test_review_pad = pad_sequences(test_sequences, maxlen=maxlen, padding='post')\n",
    "    pred = model.predict(test_review_pad)\n",
    "    pred*=100\n",
    "\n",
    "    if pred[0][0]>=50: \n",
    "        return \"It's a sarcasm!\" \n",
    "    else: \n",
    "        return \"It's not a sarcasm.\""
   ]
  },
  {
   "cell_type": "code",
   "execution_count": 92,
   "metadata": {
    "colab": {
     "base_uri": "https://localhost:8080/",
     "height": 35
    },
    "id": "7AvddiqA01VD",
    "outputId": "b060ffc6-1bd7-448e-d4fd-4d3a2e600159"
   },
   "outputs": [
    {
     "data": {
      "application/vnd.google.colaboratory.intrinsic+json": {
       "type": "string"
      },
      "text/plain": [
       "\"It's not a sarcasm.\""
      ]
     },
     "execution_count": 92,
     "metadata": {
      "tags": []
     },
     "output_type": "execute_result"
    }
   ],
   "source": [
    "predict_sarcasm(\"What a surprise.\")"
   ]
  },
  {
   "cell_type": "code",
   "execution_count": 93,
   "metadata": {
    "colab": {
     "base_uri": "https://localhost:8080/",
     "height": 35
    },
    "id": "xbExjF2p6lj4",
    "outputId": "c4dd8d53-8fe7-44e8-99f5-d8683dc6f900"
   },
   "outputs": [
    {
     "data": {
      "application/vnd.google.colaboratory.intrinsic+json": {
       "type": "string"
      },
      "text/plain": [
       "\"It's a sarcasm!\""
      ]
     },
     "execution_count": 93,
     "metadata": {
      "tags": []
     },
     "output_type": "execute_result"
    }
   ],
   "source": [
    "predict_sarcasm(\"Well, what a surprise.\")"
   ]
  }
 ],
 "metadata": {
  "accelerator": "GPU",
  "colab": {
   "collapsed_sections": [],
   "name": "Questions - Project 2 - Sequential Models in NLP - Sarcasm Detection.ipynb",
   "provenance": []
  },
  "kernelspec": {
   "display_name": "Python 3",
   "language": "python",
   "name": "python3"
  },
  "language_info": {
   "codemirror_mode": {
    "name": "ipython",
    "version": 3
   },
   "file_extension": ".py",
   "mimetype": "text/x-python",
   "name": "python",
   "nbconvert_exporter": "python",
   "pygments_lexer": "ipython3",
   "version": "3.7.4"
  },
  "toc": {
   "base_numbering": 1,
   "nav_menu": {},
   "number_sections": true,
   "sideBar": true,
   "skip_h1_title": false,
   "title_cell": "Table of Contents",
   "title_sidebar": "Contents",
   "toc_cell": false,
   "toc_position": {},
   "toc_section_display": true,
   "toc_window_display": false
  }
 },
 "nbformat": 4,
 "nbformat_minor": 1
}
